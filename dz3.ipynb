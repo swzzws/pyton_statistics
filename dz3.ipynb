{
 "cells": [
  {
   "cell_type": "markdown",
   "metadata": {},
   "source": [
    "## Задание 1"
   ]
  },
  {
   "cell_type": "markdown",
   "metadata": {},
   "source": [
    "Дан список вида:\n",
    "data = [\n",
    "[13, 25, 23, 34],\n",
    "[45, 32, 44, 47],\n",
    "[12, 33, 23, 95],\n",
    "[13, 53, 34, 35],\n",
    "]\n",
    "\n",
    "Напишите функцию, которая возвращает сумму элементов на диагонали. Т. е. 13+32+23+35."
   ]
  },
  {
   "cell_type": "code",
   "execution_count": 165,
   "metadata": {},
   "outputs": [],
   "source": [
    "data = [\n",
    "[13, 25, 23, 34],\n",
    "[45, 32, 44, 47],\n",
    "[12, 33, 23, 95],\n",
    "[13, 53, 34, 35],\n",
    "]"
   ]
  },
  {
   "cell_type": "code",
   "execution_count": 166,
   "metadata": {},
   "outputs": [],
   "source": [
    "def diagonal(i):\n",
    "    \"\"\"\n",
    "    1. Выбираем элементы из каждой строки по диагонали\n",
    "    2. Составляем список из диагональных элементов\n",
    "    3. Суммуруем элементы внутри нового списка\n",
    "    \"\"\"\n",
    "    summa=[] # список, куда будем включать диагональные элементы\n",
    "    k=0      # переменная для определения элемента в строке i\n",
    "    \n",
    "    for i in data:\n",
    "        \n",
    "        n=i[k] # берем элемент n c индексом k\n",
    "        k+=1 # для каждого перехода внутри цикла увеличиваем k на 1\n",
    "        #print(n)\n",
    "        summa.append(n)\n",
    "        \n",
    "    print(sum(summa))\n",
    "        "
   ]
  },
  {
   "cell_type": "code",
   "execution_count": 167,
   "metadata": {},
   "outputs": [
    {
     "name": "stdout",
     "output_type": "stream",
     "text": [
      "103\n"
     ]
    }
   ],
   "source": [
    "diagonal(data)"
   ]
  },
  {
   "cell_type": "markdown",
   "metadata": {},
   "source": [
    "## Задание 2"
   ]
  },
  {
   "cell_type": "markdown",
   "metadata": {},
   "source": [
    "Дан список чисел, часть из которых имеют строковый тип или содержат буквы. Напишите функцию, которая возвращает сумму квадратов элементов, которые могут быть числами."
   ]
  },
  {
   "cell_type": "code",
   "execution_count": 155,
   "metadata": {},
   "outputs": [],
   "source": [
    "data = [1, '5', 'abc', 20, '2']"
   ]
  },
  {
   "cell_type": "code",
   "execution_count": 156,
   "metadata": {},
   "outputs": [],
   "source": [
    "def find_numeric_and_sum_squr(i):\n",
    "    \"\"\"\n",
    "    1. Ищем элементы с типом int или строковый элемент - число\n",
    "    2. Составляем список таких элементов, возведенных в степень 2\n",
    "    3. Считаем сумму элементов в новом списке.\n",
    "    \"\"\"\n",
    "    sum_squr=[]\n",
    "    for i in data:\n",
    "        if type(i) == int or str.isnumeric(i):\n",
    "            sum_squr.append((int(i)**2))\n",
    "    print(sum(sum_squr))"
   ]
  },
  {
   "cell_type": "code",
   "execution_count": 157,
   "metadata": {},
   "outputs": [
    {
     "name": "stdout",
     "output_type": "stream",
     "text": [
      "430\n"
     ]
    }
   ],
   "source": [
    "find_numeric_and_sum_squr(data)"
   ]
  },
  {
   "cell_type": "markdown",
   "metadata": {},
   "source": [
    "Способ 2 (меньше кода)"
   ]
  },
  {
   "cell_type": "code",
   "execution_count": 158,
   "metadata": {},
   "outputs": [],
   "source": [
    "find_numeric = lambda x: type(x) == int or str.isnumeric(x) # нашли элементы с типом int или строковый элемент - число"
   ]
  },
  {
   "cell_type": "code",
   "execution_count": 163,
   "metadata": {},
   "outputs": [],
   "source": [
    "def squar(main_data):\n",
    "    \"\"\"\n",
    "    1. Формируем список и квадратов значений, если выполняется условие ф-ции find_numeric\n",
    "    2. Считаем сумму элементов из этого списка\n",
    "    \"\"\"\n",
    "    list_1=[int(x)**2 for x in main_data if find_numeric(x)]\n",
    "    print (sum(list_1)) "
   ]
  },
  {
   "cell_type": "code",
   "execution_count": 164,
   "metadata": {},
   "outputs": [
    {
     "name": "stdout",
     "output_type": "stream",
     "text": [
      "430\n"
     ]
    }
   ],
   "source": [
    "squar(data)"
   ]
  },
  {
   "cell_type": "markdown",
   "metadata": {},
   "source": [
    "## Задание 3"
   ]
  },
  {
   "cell_type": "markdown",
   "metadata": {},
   "source": [
    "Напишите функцию, которая возвращает название валюты (поле ‘Name’) с максимальным значением курса с помощью сервиса https://www.cbr-xml-daily.ru/daily_json.js"
   ]
  },
  {
   "cell_type": "code",
   "execution_count": 11,
   "metadata": {},
   "outputs": [],
   "source": [
    "import requests"
   ]
  },
  {
   "cell_type": "code",
   "execution_count": 25,
   "metadata": {},
   "outputs": [],
   "source": [
    "def get_data():\n",
    "        \"\"\"\n",
    "        Возвращает ответ сервиса с информацией о валютах в виде:\n",
    "        \"\"\"\n",
    "        r = requests.get('https://www.cbr-xml-daily.ru/daily_json.js')\n",
    "        return r.json()['Valute']"
   ]
  },
  {
   "cell_type": "code",
   "execution_count": 51,
   "metadata": {},
   "outputs": [],
   "source": [
    "def take_max():\n",
    "    '''\n",
    "    Из полученных данных в Valute составляем словарь с ключом = 'Name'\n",
    "    и value = 'Value'\n",
    "    Ищем в этом словаре максимальное value\n",
    "    '''\n",
    "    \n",
    "    response = get_data() # храним Valute\n",
    "    \n",
    "    for_maximum = []        # список для наполнения данными для словаря\n",
    "     \n",
    "    for key, value in response.items(): # выбираем  Name и Value в response и заполняем список maximum\n",
    "        \n",
    "        a = (value ['Name'], value['Value'])\n",
    "        \n",
    "        for_maximum.append(a)\n",
    "        \n",
    "    dict_2 = {} # словарь для наполнения данными\n",
    "    \n",
    "    for i in for_maximum: # составляем пары key - 1-й элемент for_maximum и value - 2-й элемент for_maximum \n",
    "        dict_2[i[0]] = i[1]\n",
    "        \n",
    "    max_value =max(dict_2.items(), key=lambda x: x[1]) # применили поиск максимального значения\n",
    "    print(max_value[0])\n",
    "    "
   ]
  },
  {
   "cell_type": "code",
   "execution_count": 52,
   "metadata": {},
   "outputs": [
    {
     "name": "stdout",
     "output_type": "stream",
     "text": [
      "Датских крон\n"
     ]
    }
   ],
   "source": [
    "take_max()"
   ]
  },
  {
   "cell_type": "markdown",
   "metadata": {},
   "source": [
    "## Задание 4"
   ]
  },
  {
   "cell_type": "markdown",
   "metadata": {},
   "source": [
    "Последнее упражнение с занятия\n",
    "\n",
    "1. Добавьте в класс еще один формат, который возвращает название валюты (например, ‘Евро’).\n",
    "\n",
    "2. Добавьте в класс параметр diff (со значениями True или False), который в случае значения True в методах eur и usd будет возвращать не курс валюты, а изменение по сравнению в прошлым значением."
   ]
  },
  {
   "cell_type": "code",
   "execution_count": 138,
   "metadata": {},
   "outputs": [],
   "source": [
    "class Rate:\n",
    "   \n",
    "    def __init__(self, format_1='value', format_2 = 'name', diff = '1'):\n",
    "        self.format_1 = format_1\n",
    "        self.format_2 = format_2\n",
    "        self.diff = diff\n",
    "        \n",
    "    def exchange_rates(self):\n",
    "        '''\n",
    "        Возвращает ответ сервиса с информацией о валютах в виде:\n",
    "        '''\n",
    "        r = requests.get('https://www.cbr-xml-daily.ru/daily_json.js')\n",
    "        return r.json()['Valute']\n",
    "    \n",
    "    def make_format_0(self, currency):\n",
    "        \"\"\"\n",
    "        Возвращает информацию о валюте currency - полная информация о валюте при self.format = 'full':\n",
    "\n",
    "        \"\"\"\n",
    "        response = self.exchange_rates()\n",
    "        \n",
    "        if currency in response:\n",
    "            if self.format_1 == 'full':\n",
    "                return response[currency]\n",
    "            \n",
    "            return 'Error'     \n",
    "    \n",
    "    def make_format_1(self, currency):\n",
    "        \"\"\"\n",
    "        Возвращает информацию о валюте currency - 79.4966\n",
    "        \"\"\"\n",
    "        response = self.exchange_rates()\n",
    "        \n",
    "        if currency in response:\n",
    "            \n",
    "            if self.format_1 == 'value':\n",
    "                return response[currency]['Value']\n",
    "            \n",
    "        return 'Error'\n",
    "    \n",
    "    def make_format_2(self, currency):\n",
    "        '''\n",
    "    Возвращает информацию о названии валюты\n",
    "        '''\n",
    "        response = self.exchange_rates()\n",
    "        \n",
    "        if currency in response:\n",
    "            if self.format_2 == 'name':\n",
    "                return response[currency]['Name']    \n",
    "        \n",
    "        return 'Error'\n",
    "    \n",
    "    def diff_value(self, currency):\n",
    "        '''\n",
    "        Возвращает информацию о предыдущем значении курса валюты\n",
    "        '''\n",
    "        \n",
    "        response = self.exchange_rates()\n",
    "        \n",
    "        if currency in response:\n",
    "            return response[currency]['Previous']\n",
    "        \n",
    "        return ''\n",
    "    \n",
    "    def eur(self):\n",
    "        \"\"\"Возвращает курс евро на сегодня в формате self.format_1 и self.format_2, если diff=0.\n",
    "        diff вводит user при запуске функции eur. 0 - не показывать разницу, 1 - показывать\n",
    "        Если diff = 1, в формате self.format_2 и разницу между Previous и Value\"\"\"\n",
    "        \n",
    "        if input() == self.diff:\n",
    "            return self.make_format_2('EUR'), 'diff', (self.diff_value('EUR')-self.make_format_1('EUR'))\n",
    "            \n",
    "        return self.make_format_1('EUR'), self.make_format_2('EUR')\n",
    "    \n",
    "    \n",
    "    def usd(self):\n",
    "        \"\"\"Возвращает курс доллара на сегодня в формате self.format_1 и self.format_2, если diff=0.\n",
    "        diff вводит user при запуске функции usd. 0 - не показывать разницу, 1 - показывать\n",
    "        Если diff = 1, в формате self.format_2 и разницу между Previous и Value \"\"\"\n",
    "        \n",
    "        if input() == self.diff:\n",
    "            return self.make_format_2('USD'),  'diff', (self.diff_value('USD')-self.make_format_1('USD'))\n",
    "        \n",
    "        return self.make_format_1('USD'), self.make_format_2('USD')\n",
    "    \n",
    "    def usd_full(self):\n",
    "        '''\n",
    "        Возвращает курс доллара на сегодня в формате self.format_0\n",
    "        '''\n",
    "        return self.make_format_0('USD')\n",
    "    \n",
    "    def eur_full(self):\n",
    "        '''\n",
    "        Возвращает курс евро на сегодня в формате self.format_0\n",
    "        '''\n",
    "        return self.make_format_0('EUR')\n",
    "        "
   ]
  },
  {
   "cell_type": "code",
   "execution_count": 139,
   "metadata": {},
   "outputs": [],
   "source": [
    "curr = Rate()"
   ]
  },
  {
   "cell_type": "code",
   "execution_count": 142,
   "metadata": {},
   "outputs": [
    {
     "name": "stdout",
     "output_type": "stream",
     "text": [
      "1\n"
     ]
    },
    {
     "data": {
      "text/plain": [
       "('Доллар США', 'diff', 0.17839999999999634)"
      ]
     },
     "execution_count": 142,
     "metadata": {},
     "output_type": "execute_result"
    }
   ],
   "source": [
    "curr.usd()"
   ]
  },
  {
   "cell_type": "code",
   "execution_count": 143,
   "metadata": {},
   "outputs": [
    {
     "name": "stdout",
     "output_type": "stream",
     "text": [
      "0\n"
     ]
    },
    {
     "data": {
      "text/plain": [
       "(74.0237, 'Евро')"
      ]
     },
     "execution_count": 143,
     "metadata": {},
     "output_type": "execute_result"
    }
   ],
   "source": [
    "curr.eur()"
   ]
  },
  {
   "cell_type": "code",
   "execution_count": 137,
   "metadata": {},
   "outputs": [
    {
     "data": {
      "text/plain": [
       "{'ID': 'R01235',\n",
       " 'NumCode': '840',\n",
       " 'CharCode': 'USD',\n",
       " 'Nominal': 1,\n",
       " 'Name': 'Доллар США',\n",
       " 'Value': 65.589,\n",
       " 'Previous': 65.7674}"
      ]
     },
     "execution_count": 137,
     "metadata": {},
     "output_type": "execute_result"
    }
   ],
   "source": [
    "Rate('full').usd_full()"
   ]
  },
  {
   "cell_type": "markdown",
   "metadata": {},
   "source": [
    "## Задание 5"
   ]
  },
  {
   "cell_type": "markdown",
   "metadata": {},
   "source": [
    "Напишите функцию, возвращающую сумму первых n чисел Фибоначчи\n",
    "1, 1, 2, 3, 5, ..., n=(n-1)+(n-2). Первые два элемента [1, 1, ....]"
   ]
  },
  {
   "cell_type": "code",
   "execution_count": 144,
   "metadata": {},
   "outputs": [],
   "source": [
    "fibonacci = lambda n: fibonacci(n-1) + fibonacci(n-2) if n>2 else 1 # считаем число n в последовательности фибоначчи"
   ]
  },
  {
   "cell_type": "code",
   "execution_count": 145,
   "metadata": {},
   "outputs": [],
   "source": [
    "def sum_fi(i):\n",
    "    '''\n",
    "    считаем сумму в списке элементов фибоначчи, range начинаем с 1 и заканчиаем i+1 (учесть крайний элемент)\n",
    "    '''\n",
    "    list_f=list(map(fibonacci, range(1,i+1)))\n",
    "    print(sum(list_f))"
   ]
  },
  {
   "cell_type": "code",
   "execution_count": 150,
   "metadata": {},
   "outputs": [
    {
     "name": "stdout",
     "output_type": "stream",
     "text": [
      "33\n"
     ]
    }
   ],
   "source": [
    "sum_fi(7)"
   ]
  },
  {
   "cell_type": "markdown",
   "metadata": {},
   "source": [
    "## Задание 6"
   ]
  },
  {
   "cell_type": "markdown",
   "metadata": {},
   "source": [
    "Напишите функцию, преобразующую произвольный список вида [‘2018-01-01’, ‘yandex’, ‘cpc’, 100] в словарь {‘2018-01-01’: {‘yandex’: {‘cpc’: 100}}}"
   ]
  },
  {
   "cell_type": "code",
   "execution_count": 1,
   "metadata": {},
   "outputs": [],
   "source": [
    "prosto_list=['2018-01-01', 'yandex', 'cpc', 100]\n"
   ]
  },
  {
   "cell_type": "code",
   "execution_count": 2,
   "metadata": {},
   "outputs": [],
   "source": [
    "def dict_in_dict(any_list):\n",
    "    '''\n",
    "    применяем рекурсию, пока длина списка больше 1, \n",
    "    создаем словарь, где первый элемент словаря делаем ключем, остальные его value.\n",
    "    Когда длина списка = 1, просто подставляем его значение\n",
    "    '''\n",
    "    if len(any_list) > 1:\n",
    "        return {any_list[0]: dict_in_dict(any_list[1:])}\n",
    "    return any_list[0]\n",
    "    \n"
   ]
  },
  {
   "cell_type": "code",
   "execution_count": 3,
   "metadata": {},
   "outputs": [
    {
     "data": {
      "text/plain": [
       "{'2018-01-01': {'yandex': {'cpc': 100}}}"
      ]
     },
     "execution_count": 3,
     "metadata": {},
     "output_type": "execute_result"
    }
   ],
   "source": [
    "dict_in_dict(prosto_list)"
   ]
  }
 ],
 "metadata": {
  "kernelspec": {
   "display_name": "Python 3",
   "language": "python",
   "name": "python3"
  },
  "language_info": {
   "codemirror_mode": {
    "name": "ipython",
    "version": 3
   },
   "file_extension": ".py",
   "mimetype": "text/x-python",
   "name": "python",
   "nbconvert_exporter": "python",
   "pygments_lexer": "ipython3",
   "version": "3.7.1"
  }
 },
 "nbformat": 4,
 "nbformat_minor": 2
}
